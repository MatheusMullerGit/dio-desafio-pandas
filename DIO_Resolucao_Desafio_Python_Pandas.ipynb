{
  "nbformat": 4,
  "nbformat_minor": 0,
  "metadata": {
    "colab": {
      "name": "DIO_Resolucao_Desafio_Python_Pandas.ipynb",
      "provenance": [],
      "collapsed_sections": [],
      "include_colab_link": true
    },
    "kernelspec": {
      "display_name": "Python 3",
      "language": "python",
      "name": "python3"
    },
    "language_info": {
      "codemirror_mode": {
        "name": "ipython",
        "version": 3
      },
      "file_extension": ".py",
      "mimetype": "text/x-python",
      "name": "python",
      "nbconvert_exporter": "python",
      "pygments_lexer": "ipython3",
      "version": "3.8.0"
    }
  },
  "cells": [
    {
      "cell_type": "markdown",
      "metadata": {
        "id": "view-in-github",
        "colab_type": "text"
      },
      "source": [
        "<a href=\"https://colab.research.google.com/github/MatheusMullerGit/dio-desafio-pandas/blob/main/DIO_Resolucao_Desafio_Python_Pandas.ipynb\" target=\"_parent\"><img src=\"https://colab.research.google.com/assets/colab-badge.svg\" alt=\"Open In Colab\"/></a>"
      ]
    },
    {
      "cell_type": "markdown",
      "metadata": {
        "id": "LBdHyScAAij-"
      },
      "source": [
        "##Resolução do Desafio de Análise de dados com Python e Pandas da **Digital Innovation One** ministrada pela Professora **Fernanda Santos**\n",
        "*Nesta versão implementei a instalação e importação da biblioteca yfinance para trabalhar com os dados financeiros oriundos desta API não oficial, visto que a API original do Yahoo! Finance foi descontinuada.*"
      ]
    },
    {
      "cell_type": "code",
      "metadata": {
        "colab": {
          "base_uri": "https://localhost:8080/"
        },
        "id": "B2ellgP1pW0x",
        "outputId": "432e9bae-b38d-432c-bfbf-6712eea24394"
      },
      "source": [
        "#Instalando a biblioteca yfinance (executar na primeira execução)\n",
        "!pip install yfinance --upgrade --no-cache-dir"
      ],
      "execution_count": 1,
      "outputs": [
        {
          "output_type": "stream",
          "name": "stdout",
          "text": [
            "Requirement already satisfied: yfinance in /usr/local/lib/python3.7/dist-packages (0.1.63)\n",
            "Requirement already satisfied: numpy>=1.15 in /usr/local/lib/python3.7/dist-packages (from yfinance) (1.19.5)\n",
            "Requirement already satisfied: lxml>=4.5.1 in /usr/local/lib/python3.7/dist-packages (from yfinance) (4.6.3)\n",
            "Requirement already satisfied: multitasking>=0.0.7 in /usr/local/lib/python3.7/dist-packages (from yfinance) (0.0.9)\n",
            "Requirement already satisfied: pandas>=0.24 in /usr/local/lib/python3.7/dist-packages (from yfinance) (1.1.5)\n",
            "Requirement already satisfied: requests>=2.20 in /usr/local/lib/python3.7/dist-packages (from yfinance) (2.23.0)\n",
            "Requirement already satisfied: pytz>=2017.2 in /usr/local/lib/python3.7/dist-packages (from pandas>=0.24->yfinance) (2018.9)\n",
            "Requirement already satisfied: python-dateutil>=2.7.3 in /usr/local/lib/python3.7/dist-packages (from pandas>=0.24->yfinance) (2.8.2)\n",
            "Requirement already satisfied: six>=1.5 in /usr/local/lib/python3.7/dist-packages (from python-dateutil>=2.7.3->pandas>=0.24->yfinance) (1.15.0)\n",
            "Requirement already satisfied: idna<3,>=2.5 in /usr/local/lib/python3.7/dist-packages (from requests>=2.20->yfinance) (2.10)\n",
            "Requirement already satisfied: certifi>=2017.4.17 in /usr/local/lib/python3.7/dist-packages (from requests>=2.20->yfinance) (2021.5.30)\n",
            "Requirement already satisfied: chardet<4,>=3.0.2 in /usr/local/lib/python3.7/dist-packages (from requests>=2.20->yfinance) (3.0.4)\n",
            "Requirement already satisfied: urllib3!=1.25.0,!=1.25.1,<1.26,>=1.21.1 in /usr/local/lib/python3.7/dist-packages (from requests>=2.20->yfinance) (1.24.3)\n"
          ]
        }
      ]
    },
    {
      "cell_type": "code",
      "metadata": {
        "id": "G5HpRApza9UR"
      },
      "source": [
        "#Importando as bibliotecas\n",
        "import yfinance as yf\n",
        "import pandas as pd\n",
        "import numpy as np\n",
        "import matplotlib.pyplot as plt\n",
        "plt.style.use(\"seaborn\")"
      ],
      "execution_count": 2,
      "outputs": []
    },
    {
      "cell_type": "code",
      "metadata": {
        "id": "kVZ2R56vpDE9"
      },
      "source": [
        "# Selecionando o ativo da Microsoft\n",
        "msft = yf.Ticker(\"MSFT\")\n",
        "\n",
        "# Obtendo os dados históricos da Microsoft\n",
        "df = msft.history(period=\"max\")"
      ],
      "execution_count": 3,
      "outputs": []
    },
    {
      "cell_type": "code",
      "metadata": {
        "colab": {
          "base_uri": "https://localhost:8080/",
          "height": 235
        },
        "id": "DPOEg0MikIXG",
        "outputId": "69cbf93d-c831-46fc-ef0b-5af40ceaab27"
      },
      "source": [
        "#Visualizando as 5 primeiras linhas\n",
        "df.head()"
      ],
      "execution_count": 4,
      "outputs": [
        {
          "output_type": "execute_result",
          "data": {
            "text/html": [
              "<div>\n",
              "<style scoped>\n",
              "    .dataframe tbody tr th:only-of-type {\n",
              "        vertical-align: middle;\n",
              "    }\n",
              "\n",
              "    .dataframe tbody tr th {\n",
              "        vertical-align: top;\n",
              "    }\n",
              "\n",
              "    .dataframe thead th {\n",
              "        text-align: right;\n",
              "    }\n",
              "</style>\n",
              "<table border=\"1\" class=\"dataframe\">\n",
              "  <thead>\n",
              "    <tr style=\"text-align: right;\">\n",
              "      <th></th>\n",
              "      <th>Open</th>\n",
              "      <th>High</th>\n",
              "      <th>Low</th>\n",
              "      <th>Close</th>\n",
              "      <th>Volume</th>\n",
              "      <th>Dividends</th>\n",
              "      <th>Stock Splits</th>\n",
              "    </tr>\n",
              "    <tr>\n",
              "      <th>Date</th>\n",
              "      <th></th>\n",
              "      <th></th>\n",
              "      <th></th>\n",
              "      <th></th>\n",
              "      <th></th>\n",
              "      <th></th>\n",
              "      <th></th>\n",
              "    </tr>\n",
              "  </thead>\n",
              "  <tbody>\n",
              "    <tr>\n",
              "      <th>1986-03-13</th>\n",
              "      <td>0.056001</td>\n",
              "      <td>0.064236</td>\n",
              "      <td>0.056001</td>\n",
              "      <td>0.061491</td>\n",
              "      <td>1031788800</td>\n",
              "      <td>0.0</td>\n",
              "      <td>0.0</td>\n",
              "    </tr>\n",
              "    <tr>\n",
              "      <th>1986-03-14</th>\n",
              "      <td>0.061491</td>\n",
              "      <td>0.064785</td>\n",
              "      <td>0.061491</td>\n",
              "      <td>0.063687</td>\n",
              "      <td>308160000</td>\n",
              "      <td>0.0</td>\n",
              "      <td>0.0</td>\n",
              "    </tr>\n",
              "    <tr>\n",
              "      <th>1986-03-17</th>\n",
              "      <td>0.063687</td>\n",
              "      <td>0.065334</td>\n",
              "      <td>0.063687</td>\n",
              "      <td>0.064785</td>\n",
              "      <td>133171200</td>\n",
              "      <td>0.0</td>\n",
              "      <td>0.0</td>\n",
              "    </tr>\n",
              "    <tr>\n",
              "      <th>1986-03-18</th>\n",
              "      <td>0.064785</td>\n",
              "      <td>0.065334</td>\n",
              "      <td>0.062589</td>\n",
              "      <td>0.063138</td>\n",
              "      <td>67766400</td>\n",
              "      <td>0.0</td>\n",
              "      <td>0.0</td>\n",
              "    </tr>\n",
              "    <tr>\n",
              "      <th>1986-03-19</th>\n",
              "      <td>0.063138</td>\n",
              "      <td>0.063687</td>\n",
              "      <td>0.061491</td>\n",
              "      <td>0.062040</td>\n",
              "      <td>47894400</td>\n",
              "      <td>0.0</td>\n",
              "      <td>0.0</td>\n",
              "    </tr>\n",
              "  </tbody>\n",
              "</table>\n",
              "</div>"
            ],
            "text/plain": [
              "                Open      High       Low  ...      Volume  Dividends  Stock Splits\n",
              "Date                                      ...                                     \n",
              "1986-03-13  0.056001  0.064236  0.056001  ...  1031788800        0.0           0.0\n",
              "1986-03-14  0.061491  0.064785  0.061491  ...   308160000        0.0           0.0\n",
              "1986-03-17  0.063687  0.065334  0.063687  ...   133171200        0.0           0.0\n",
              "1986-03-18  0.064785  0.065334  0.062589  ...    67766400        0.0           0.0\n",
              "1986-03-19  0.063138  0.063687  0.061491  ...    47894400        0.0           0.0\n",
              "\n",
              "[5 rows x 7 columns]"
            ]
          },
          "metadata": {},
          "execution_count": 4
        }
      ]
    },
    {
      "cell_type": "code",
      "metadata": {
        "id": "7jnGV5sgZMWN"
      },
      "source": [
        "#Inserindo o campo Date no Dataframe e resetando o índice\n",
        "df.insert(0,\"Date\",df.index)\n",
        "df.reset_index(drop=True, inplace=True)"
      ],
      "execution_count": 5,
      "outputs": []
    },
    {
      "cell_type": "code",
      "metadata": {
        "colab": {
          "base_uri": "https://localhost:8080/",
          "height": 204
        },
        "id": "DMhTr1Z6ZgZL",
        "outputId": "f334f465-b4e6-48b8-a1fb-8bb314379c3f"
      },
      "source": [
        "#Visualizando as 5 primeiras linhas\n",
        "df.head()"
      ],
      "execution_count": 6,
      "outputs": [
        {
          "output_type": "execute_result",
          "data": {
            "text/html": [
              "<div>\n",
              "<style scoped>\n",
              "    .dataframe tbody tr th:only-of-type {\n",
              "        vertical-align: middle;\n",
              "    }\n",
              "\n",
              "    .dataframe tbody tr th {\n",
              "        vertical-align: top;\n",
              "    }\n",
              "\n",
              "    .dataframe thead th {\n",
              "        text-align: right;\n",
              "    }\n",
              "</style>\n",
              "<table border=\"1\" class=\"dataframe\">\n",
              "  <thead>\n",
              "    <tr style=\"text-align: right;\">\n",
              "      <th></th>\n",
              "      <th>Date</th>\n",
              "      <th>Open</th>\n",
              "      <th>High</th>\n",
              "      <th>Low</th>\n",
              "      <th>Close</th>\n",
              "      <th>Volume</th>\n",
              "      <th>Dividends</th>\n",
              "      <th>Stock Splits</th>\n",
              "    </tr>\n",
              "  </thead>\n",
              "  <tbody>\n",
              "    <tr>\n",
              "      <th>0</th>\n",
              "      <td>1986-03-13</td>\n",
              "      <td>0.056001</td>\n",
              "      <td>0.064236</td>\n",
              "      <td>0.056001</td>\n",
              "      <td>0.061491</td>\n",
              "      <td>1031788800</td>\n",
              "      <td>0.0</td>\n",
              "      <td>0.0</td>\n",
              "    </tr>\n",
              "    <tr>\n",
              "      <th>1</th>\n",
              "      <td>1986-03-14</td>\n",
              "      <td>0.061491</td>\n",
              "      <td>0.064785</td>\n",
              "      <td>0.061491</td>\n",
              "      <td>0.063687</td>\n",
              "      <td>308160000</td>\n",
              "      <td>0.0</td>\n",
              "      <td>0.0</td>\n",
              "    </tr>\n",
              "    <tr>\n",
              "      <th>2</th>\n",
              "      <td>1986-03-17</td>\n",
              "      <td>0.063687</td>\n",
              "      <td>0.065334</td>\n",
              "      <td>0.063687</td>\n",
              "      <td>0.064785</td>\n",
              "      <td>133171200</td>\n",
              "      <td>0.0</td>\n",
              "      <td>0.0</td>\n",
              "    </tr>\n",
              "    <tr>\n",
              "      <th>3</th>\n",
              "      <td>1986-03-18</td>\n",
              "      <td>0.064785</td>\n",
              "      <td>0.065334</td>\n",
              "      <td>0.062589</td>\n",
              "      <td>0.063138</td>\n",
              "      <td>67766400</td>\n",
              "      <td>0.0</td>\n",
              "      <td>0.0</td>\n",
              "    </tr>\n",
              "    <tr>\n",
              "      <th>4</th>\n",
              "      <td>1986-03-19</td>\n",
              "      <td>0.063138</td>\n",
              "      <td>0.063687</td>\n",
              "      <td>0.061491</td>\n",
              "      <td>0.062040</td>\n",
              "      <td>47894400</td>\n",
              "      <td>0.0</td>\n",
              "      <td>0.0</td>\n",
              "    </tr>\n",
              "  </tbody>\n",
              "</table>\n",
              "</div>"
            ],
            "text/plain": [
              "        Date      Open      High  ...      Volume  Dividends  Stock Splits\n",
              "0 1986-03-13  0.056001  0.064236  ...  1031788800        0.0           0.0\n",
              "1 1986-03-14  0.061491  0.064785  ...   308160000        0.0           0.0\n",
              "2 1986-03-17  0.063687  0.065334  ...   133171200        0.0           0.0\n",
              "3 1986-03-18  0.064785  0.065334  ...    67766400        0.0           0.0\n",
              "4 1986-03-19  0.063138  0.063687  ...    47894400        0.0           0.0\n",
              "\n",
              "[5 rows x 8 columns]"
            ]
          },
          "metadata": {},
          "execution_count": 6
        }
      ]
    },
    {
      "cell_type": "code",
      "metadata": {
        "colab": {
          "base_uri": "https://localhost:8080/"
        },
        "id": "UCJpu--kK9wo",
        "outputId": "58465546-15a1-4dd6-a427-353299a56a07"
      },
      "source": [
        "#Quantidade de linhas e colunas\n",
        "df.shape"
      ],
      "execution_count": 7,
      "outputs": [
        {
          "output_type": "execute_result",
          "data": {
            "text/plain": [
              "(8955, 8)"
            ]
          },
          "metadata": {},
          "execution_count": 7
        }
      ]
    },
    {
      "cell_type": "code",
      "metadata": {
        "colab": {
          "base_uri": "https://localhost:8080/"
        },
        "id": "P9S1i8o1lUu-",
        "outputId": "78f6f043-9547-4990-d3c9-dde93af9e336"
      },
      "source": [
        "#Verificando os tipos de dados\n",
        "df.dtypes"
      ],
      "execution_count": 8,
      "outputs": [
        {
          "output_type": "execute_result",
          "data": {
            "text/plain": [
              "Date            datetime64[ns]\n",
              "Open                   float64\n",
              "High                   float64\n",
              "Low                    float64\n",
              "Close                  float64\n",
              "Volume                   int64\n",
              "Dividends              float64\n",
              "Stock Splits           float64\n",
              "dtype: object"
            ]
          },
          "metadata": {},
          "execution_count": 8
        }
      ]
    },
    {
      "cell_type": "code",
      "metadata": {
        "colab": {
          "base_uri": "https://localhost:8080/"
        },
        "id": "duheNX1GlhWw",
        "outputId": "09807a53-d7b5-431d-dcc7-c4f9bfa82a13"
      },
      "source": [
        "#Qual o valor médio da ação da empresa (considerando o valor de fechamento)?\n",
        "df[\"Close\"].mean()"
      ],
      "execution_count": 9,
      "outputs": [
        {
          "output_type": "execute_result",
          "data": {
            "text/plain": [
              "32.44229684390589"
            ]
          },
          "metadata": {},
          "execution_count": 9
        }
      ]
    },
    {
      "cell_type": "code",
      "metadata": {
        "id": "IHop-35BlyDO"
      },
      "source": [
        "#Qual o retorno financeiro (variação percentual diária de preço em relação ao dia anterior)?\n",
        "df[\"Retorno\"] = df[\"Close\"].pct_change() #Criando a coluna de retorno financeiro"
      ],
      "execution_count": 10,
      "outputs": []
    },
    {
      "cell_type": "code",
      "metadata": {
        "colab": {
          "base_uri": "https://localhost:8080/",
          "height": 204
        },
        "id": "3fy4QmNLmMWd",
        "outputId": "1010171e-3b99-402c-ea2a-43ff82055fc9"
      },
      "source": [
        "df.head()"
      ],
      "execution_count": 11,
      "outputs": [
        {
          "output_type": "execute_result",
          "data": {
            "text/html": [
              "<div>\n",
              "<style scoped>\n",
              "    .dataframe tbody tr th:only-of-type {\n",
              "        vertical-align: middle;\n",
              "    }\n",
              "\n",
              "    .dataframe tbody tr th {\n",
              "        vertical-align: top;\n",
              "    }\n",
              "\n",
              "    .dataframe thead th {\n",
              "        text-align: right;\n",
              "    }\n",
              "</style>\n",
              "<table border=\"1\" class=\"dataframe\">\n",
              "  <thead>\n",
              "    <tr style=\"text-align: right;\">\n",
              "      <th></th>\n",
              "      <th>Date</th>\n",
              "      <th>Open</th>\n",
              "      <th>High</th>\n",
              "      <th>Low</th>\n",
              "      <th>Close</th>\n",
              "      <th>Volume</th>\n",
              "      <th>Dividends</th>\n",
              "      <th>Stock Splits</th>\n",
              "      <th>Retorno</th>\n",
              "    </tr>\n",
              "  </thead>\n",
              "  <tbody>\n",
              "    <tr>\n",
              "      <th>0</th>\n",
              "      <td>1986-03-13</td>\n",
              "      <td>0.056001</td>\n",
              "      <td>0.064236</td>\n",
              "      <td>0.056001</td>\n",
              "      <td>0.061491</td>\n",
              "      <td>1031788800</td>\n",
              "      <td>0.0</td>\n",
              "      <td>0.0</td>\n",
              "      <td>NaN</td>\n",
              "    </tr>\n",
              "    <tr>\n",
              "      <th>1</th>\n",
              "      <td>1986-03-14</td>\n",
              "      <td>0.061491</td>\n",
              "      <td>0.064785</td>\n",
              "      <td>0.061491</td>\n",
              "      <td>0.063687</td>\n",
              "      <td>308160000</td>\n",
              "      <td>0.0</td>\n",
              "      <td>0.0</td>\n",
              "      <td>0.035712</td>\n",
              "    </tr>\n",
              "    <tr>\n",
              "      <th>2</th>\n",
              "      <td>1986-03-17</td>\n",
              "      <td>0.063687</td>\n",
              "      <td>0.065334</td>\n",
              "      <td>0.063687</td>\n",
              "      <td>0.064785</td>\n",
              "      <td>133171200</td>\n",
              "      <td>0.0</td>\n",
              "      <td>0.0</td>\n",
              "      <td>0.017250</td>\n",
              "    </tr>\n",
              "    <tr>\n",
              "      <th>3</th>\n",
              "      <td>1986-03-18</td>\n",
              "      <td>0.064785</td>\n",
              "      <td>0.065334</td>\n",
              "      <td>0.062589</td>\n",
              "      <td>0.063138</td>\n",
              "      <td>67766400</td>\n",
              "      <td>0.0</td>\n",
              "      <td>0.0</td>\n",
              "      <td>-0.025432</td>\n",
              "    </tr>\n",
              "    <tr>\n",
              "      <th>4</th>\n",
              "      <td>1986-03-19</td>\n",
              "      <td>0.063138</td>\n",
              "      <td>0.063687</td>\n",
              "      <td>0.061491</td>\n",
              "      <td>0.062040</td>\n",
              "      <td>47894400</td>\n",
              "      <td>0.0</td>\n",
              "      <td>0.0</td>\n",
              "      <td>-0.017390</td>\n",
              "    </tr>\n",
              "  </tbody>\n",
              "</table>\n",
              "</div>"
            ],
            "text/plain": [
              "        Date      Open      High  ...  Dividends  Stock Splits   Retorno\n",
              "0 1986-03-13  0.056001  0.064236  ...        0.0           0.0       NaN\n",
              "1 1986-03-14  0.061491  0.064785  ...        0.0           0.0  0.035712\n",
              "2 1986-03-17  0.063687  0.065334  ...        0.0           0.0  0.017250\n",
              "3 1986-03-18  0.064785  0.065334  ...        0.0           0.0 -0.025432\n",
              "4 1986-03-19  0.063138  0.063687  ...        0.0           0.0 -0.017390\n",
              "\n",
              "[5 rows x 9 columns]"
            ]
          },
          "metadata": {},
          "execution_count": 11
        }
      ]
    },
    {
      "cell_type": "code",
      "metadata": {
        "colab": {
          "base_uri": "https://localhost:8080/"
        },
        "id": "bvz8Z68ieqHn",
        "outputId": "037057d2-d8e6-4c0b-82f1-e42e1bcdd257"
      },
      "source": [
        "#Qual o retorno financeiro acumulado Total?\n",
        "df[\"Retorno_acum\"] = np.cumprod(df[\"Retorno\"][1:] + 1)-1\n",
        "\n",
        "print(\"Retorno acumulado do ativo no período: \", df[\"Retorno_acum\"].iloc[-1]*100, \"%\")"
      ],
      "execution_count": 12,
      "outputs": [
        {
          "output_type": "stream",
          "name": "stdout",
          "text": [
            "Retorno acumulado do ativo no período:  479322.33576018823 %\n"
          ]
        }
      ]
    },
    {
      "cell_type": "code",
      "metadata": {
        "colab": {
          "base_uri": "https://localhost:8080/",
          "height": 204
        },
        "id": "F62Y5ZR8hJrc",
        "outputId": "6a5138c3-a55f-454e-e88e-959777e214f1"
      },
      "source": [
        "df.head()"
      ],
      "execution_count": 13,
      "outputs": [
        {
          "output_type": "execute_result",
          "data": {
            "text/html": [
              "<div>\n",
              "<style scoped>\n",
              "    .dataframe tbody tr th:only-of-type {\n",
              "        vertical-align: middle;\n",
              "    }\n",
              "\n",
              "    .dataframe tbody tr th {\n",
              "        vertical-align: top;\n",
              "    }\n",
              "\n",
              "    .dataframe thead th {\n",
              "        text-align: right;\n",
              "    }\n",
              "</style>\n",
              "<table border=\"1\" class=\"dataframe\">\n",
              "  <thead>\n",
              "    <tr style=\"text-align: right;\">\n",
              "      <th></th>\n",
              "      <th>Date</th>\n",
              "      <th>Open</th>\n",
              "      <th>High</th>\n",
              "      <th>Low</th>\n",
              "      <th>Close</th>\n",
              "      <th>Volume</th>\n",
              "      <th>Dividends</th>\n",
              "      <th>Stock Splits</th>\n",
              "      <th>Retorno</th>\n",
              "      <th>Retorno_acum</th>\n",
              "    </tr>\n",
              "  </thead>\n",
              "  <tbody>\n",
              "    <tr>\n",
              "      <th>0</th>\n",
              "      <td>1986-03-13</td>\n",
              "      <td>0.056001</td>\n",
              "      <td>0.064236</td>\n",
              "      <td>0.056001</td>\n",
              "      <td>0.061491</td>\n",
              "      <td>1031788800</td>\n",
              "      <td>0.0</td>\n",
              "      <td>0.0</td>\n",
              "      <td>NaN</td>\n",
              "      <td>NaN</td>\n",
              "    </tr>\n",
              "    <tr>\n",
              "      <th>1</th>\n",
              "      <td>1986-03-14</td>\n",
              "      <td>0.061491</td>\n",
              "      <td>0.064785</td>\n",
              "      <td>0.061491</td>\n",
              "      <td>0.063687</td>\n",
              "      <td>308160000</td>\n",
              "      <td>0.0</td>\n",
              "      <td>0.0</td>\n",
              "      <td>0.035712</td>\n",
              "      <td>0.035712</td>\n",
              "    </tr>\n",
              "    <tr>\n",
              "      <th>2</th>\n",
              "      <td>1986-03-17</td>\n",
              "      <td>0.063687</td>\n",
              "      <td>0.065334</td>\n",
              "      <td>0.063687</td>\n",
              "      <td>0.064785</td>\n",
              "      <td>133171200</td>\n",
              "      <td>0.0</td>\n",
              "      <td>0.0</td>\n",
              "      <td>0.017250</td>\n",
              "      <td>0.053578</td>\n",
              "    </tr>\n",
              "    <tr>\n",
              "      <th>3</th>\n",
              "      <td>1986-03-18</td>\n",
              "      <td>0.064785</td>\n",
              "      <td>0.065334</td>\n",
              "      <td>0.062589</td>\n",
              "      <td>0.063138</td>\n",
              "      <td>67766400</td>\n",
              "      <td>0.0</td>\n",
              "      <td>0.0</td>\n",
              "      <td>-0.025432</td>\n",
              "      <td>0.026784</td>\n",
              "    </tr>\n",
              "    <tr>\n",
              "      <th>4</th>\n",
              "      <td>1986-03-19</td>\n",
              "      <td>0.063138</td>\n",
              "      <td>0.063687</td>\n",
              "      <td>0.061491</td>\n",
              "      <td>0.062040</td>\n",
              "      <td>47894400</td>\n",
              "      <td>0.0</td>\n",
              "      <td>0.0</td>\n",
              "      <td>-0.017390</td>\n",
              "      <td>0.008928</td>\n",
              "    </tr>\n",
              "  </tbody>\n",
              "</table>\n",
              "</div>"
            ],
            "text/plain": [
              "        Date      Open      High  ...  Stock Splits   Retorno  Retorno_acum\n",
              "0 1986-03-13  0.056001  0.064236  ...           0.0       NaN           NaN\n",
              "1 1986-03-14  0.061491  0.064785  ...           0.0  0.035712      0.035712\n",
              "2 1986-03-17  0.063687  0.065334  ...           0.0  0.017250      0.053578\n",
              "3 1986-03-18  0.064785  0.065334  ...           0.0 -0.025432      0.026784\n",
              "4 1986-03-19  0.063138  0.063687  ...           0.0 -0.017390      0.008928\n",
              "\n",
              "[5 rows x 10 columns]"
            ]
          },
          "metadata": {},
          "execution_count": 13
        }
      ]
    },
    {
      "cell_type": "markdown",
      "metadata": {
        "id": "I1sg7kwKjuU1"
      },
      "source": [
        " **Missing Values**"
      ]
    },
    {
      "cell_type": "code",
      "metadata": {
        "colab": {
          "base_uri": "https://localhost:8080/"
        },
        "id": "a26UV-kTjmog",
        "outputId": "5d22fee6-e577-4c04-d663-4f8036b2201d"
      },
      "source": [
        "#Verificando se temos dados faltantes\n",
        "df.isnull().sum()"
      ],
      "execution_count": 14,
      "outputs": [
        {
          "output_type": "execute_result",
          "data": {
            "text/plain": [
              "Date            0\n",
              "Open            0\n",
              "High            0\n",
              "Low             0\n",
              "Close           0\n",
              "Volume          0\n",
              "Dividends       0\n",
              "Stock Splits    0\n",
              "Retorno         1\n",
              "Retorno_acum    1\n",
              "dtype: int64"
            ]
          },
          "metadata": {},
          "execution_count": 14
        }
      ]
    },
    {
      "cell_type": "code",
      "metadata": {
        "id": "2bh6qBJUmuhb"
      },
      "source": [
        "#Excluindo o primeiro registro, contendo valor nulo nas colunas calculadas\n",
        "df.dropna(inplace=True)"
      ],
      "execution_count": 15,
      "outputs": []
    },
    {
      "cell_type": "code",
      "metadata": {
        "colab": {
          "base_uri": "https://localhost:8080/"
        },
        "id": "0xrTv0BonD0V",
        "outputId": "793d05e4-0679-4046-92af-7d5e791404e4"
      },
      "source": [
        "#Verificando se temos dados faltantes\n",
        "df.isnull().sum()"
      ],
      "execution_count": 16,
      "outputs": [
        {
          "output_type": "execute_result",
          "data": {
            "text/plain": [
              "Date            0\n",
              "Open            0\n",
              "High            0\n",
              "Low             0\n",
              "Close           0\n",
              "Volume          0\n",
              "Dividends       0\n",
              "Stock Splits    0\n",
              "Retorno         0\n",
              "Retorno_acum    0\n",
              "dtype: int64"
            ]
          },
          "metadata": {},
          "execution_count": 16
        }
      ]
    },
    {
      "cell_type": "code",
      "metadata": {
        "colab": {
          "base_uri": "https://localhost:8080/",
          "height": 204
        },
        "id": "Tf4SKFhQnHDd",
        "outputId": "246c0fa8-60a6-47d8-e4b7-6750162d3160"
      },
      "source": [
        "df.head()"
      ],
      "execution_count": 17,
      "outputs": [
        {
          "output_type": "execute_result",
          "data": {
            "text/html": [
              "<div>\n",
              "<style scoped>\n",
              "    .dataframe tbody tr th:only-of-type {\n",
              "        vertical-align: middle;\n",
              "    }\n",
              "\n",
              "    .dataframe tbody tr th {\n",
              "        vertical-align: top;\n",
              "    }\n",
              "\n",
              "    .dataframe thead th {\n",
              "        text-align: right;\n",
              "    }\n",
              "</style>\n",
              "<table border=\"1\" class=\"dataframe\">\n",
              "  <thead>\n",
              "    <tr style=\"text-align: right;\">\n",
              "      <th></th>\n",
              "      <th>Date</th>\n",
              "      <th>Open</th>\n",
              "      <th>High</th>\n",
              "      <th>Low</th>\n",
              "      <th>Close</th>\n",
              "      <th>Volume</th>\n",
              "      <th>Dividends</th>\n",
              "      <th>Stock Splits</th>\n",
              "      <th>Retorno</th>\n",
              "      <th>Retorno_acum</th>\n",
              "    </tr>\n",
              "  </thead>\n",
              "  <tbody>\n",
              "    <tr>\n",
              "      <th>1</th>\n",
              "      <td>1986-03-14</td>\n",
              "      <td>0.061491</td>\n",
              "      <td>0.064785</td>\n",
              "      <td>0.061491</td>\n",
              "      <td>0.063687</td>\n",
              "      <td>308160000</td>\n",
              "      <td>0.0</td>\n",
              "      <td>0.0</td>\n",
              "      <td>0.035712</td>\n",
              "      <td>0.035712</td>\n",
              "    </tr>\n",
              "    <tr>\n",
              "      <th>2</th>\n",
              "      <td>1986-03-17</td>\n",
              "      <td>0.063687</td>\n",
              "      <td>0.065334</td>\n",
              "      <td>0.063687</td>\n",
              "      <td>0.064785</td>\n",
              "      <td>133171200</td>\n",
              "      <td>0.0</td>\n",
              "      <td>0.0</td>\n",
              "      <td>0.017250</td>\n",
              "      <td>0.053578</td>\n",
              "    </tr>\n",
              "    <tr>\n",
              "      <th>3</th>\n",
              "      <td>1986-03-18</td>\n",
              "      <td>0.064785</td>\n",
              "      <td>0.065334</td>\n",
              "      <td>0.062589</td>\n",
              "      <td>0.063138</td>\n",
              "      <td>67766400</td>\n",
              "      <td>0.0</td>\n",
              "      <td>0.0</td>\n",
              "      <td>-0.025432</td>\n",
              "      <td>0.026784</td>\n",
              "    </tr>\n",
              "    <tr>\n",
              "      <th>4</th>\n",
              "      <td>1986-03-19</td>\n",
              "      <td>0.063138</td>\n",
              "      <td>0.063687</td>\n",
              "      <td>0.061491</td>\n",
              "      <td>0.062040</td>\n",
              "      <td>47894400</td>\n",
              "      <td>0.0</td>\n",
              "      <td>0.0</td>\n",
              "      <td>-0.017390</td>\n",
              "      <td>0.008928</td>\n",
              "    </tr>\n",
              "    <tr>\n",
              "      <th>5</th>\n",
              "      <td>1986-03-20</td>\n",
              "      <td>0.062040</td>\n",
              "      <td>0.062040</td>\n",
              "      <td>0.059844</td>\n",
              "      <td>0.060393</td>\n",
              "      <td>58435200</td>\n",
              "      <td>0.0</td>\n",
              "      <td>0.0</td>\n",
              "      <td>-0.026547</td>\n",
              "      <td>-0.017857</td>\n",
              "    </tr>\n",
              "  </tbody>\n",
              "</table>\n",
              "</div>"
            ],
            "text/plain": [
              "        Date      Open      High  ...  Stock Splits   Retorno  Retorno_acum\n",
              "1 1986-03-14  0.061491  0.064785  ...           0.0  0.035712      0.035712\n",
              "2 1986-03-17  0.063687  0.065334  ...           0.0  0.017250      0.053578\n",
              "3 1986-03-18  0.064785  0.065334  ...           0.0 -0.025432      0.026784\n",
              "4 1986-03-19  0.063138  0.063687  ...           0.0 -0.017390      0.008928\n",
              "5 1986-03-20  0.062040  0.062040  ...           0.0 -0.026547     -0.017857\n",
              "\n",
              "[5 rows x 10 columns]"
            ]
          },
          "metadata": {},
          "execution_count": 17
        }
      ]
    },
    {
      "cell_type": "markdown",
      "metadata": {
        "id": "Mh40m00N0lQE"
      },
      "source": [
        "**E, se a gente quiser saber o Crescimento acumulado agrupado por Ano?**"
      ]
    },
    {
      "cell_type": "code",
      "metadata": {
        "colab": {
          "base_uri": "https://localhost:8080/"
        },
        "id": "7CPhZjrJ00a1",
        "outputId": "fe834bc7-72ca-4467-fb20-09f158e01aa8"
      },
      "source": [
        "#Vamos Agrupar por ano\n",
        "df.groupby([df[\"Date\"].dt.year])[\"Retorno_acum\"].last()"
      ],
      "execution_count": 18,
      "outputs": [
        {
          "output_type": "execute_result",
          "data": {
            "text/plain": [
              "Date\n",
              "1986       0.723220\n",
              "1987       2.875006\n",
              "1988       2.803582\n",
              "1989       5.214301\n",
              "1990       9.750019\n",
              "1991      22.839331\n",
              "1992      26.442015\n",
              "1993      24.915224\n",
              "1994      38.294721\n",
              "1995      55.410830\n",
              "1996     105.232329\n",
              "1997     165.178935\n",
              "1998     355.625726\n",
              "1999     599.429885\n",
              "2000     222.071793\n",
              "2001     339.714907\n",
              "2002     264.886141\n",
              "2003     283.010254\n",
              "2004     308.935026\n",
              "2005     306.027010\n",
              "2006     354.658321\n",
              "2007     428.787775\n",
              "2008     238.023835\n",
              "2009     382.554784\n",
              "2010     357.529177\n",
              "2011     341.339160\n",
              "2012     361.191066\n",
              "2013     521.634230\n",
              "2014     665.696520\n",
              "2015     816.982338\n",
              "2016     940.315456\n",
              "2017    1323.719148\n",
              "2018    1599.198228\n",
              "2019    2520.242035\n",
              "2020    3592.628982\n",
              "2021    4793.223358\n",
              "Name: Retorno_acum, dtype: float64"
            ]
          },
          "metadata": {},
          "execution_count": 18
        }
      ]
    },
    {
      "cell_type": "code",
      "metadata": {
        "id": "kZ3lxKGabXeq"
      },
      "source": [
        " pd.options.display.float_format = '{:20,.2f}'.format"
      ],
      "execution_count": 19,
      "outputs": []
    },
    {
      "cell_type": "code",
      "metadata": {
        "id": "qEjCs7y77966"
      },
      "source": [
        "#Selecionando os dados a partir de 1990\n",
        "df2 = df[df[\"Date\"].dt.year >= 1990]"
      ],
      "execution_count": 20,
      "outputs": []
    },
    {
      "cell_type": "code",
      "metadata": {
        "colab": {
          "base_uri": "https://localhost:8080/",
          "height": 204
        },
        "id": "GiL4JRnU_LSf",
        "outputId": "8ba3e00f-afb1-44f8-ace9-8eb1e203c4a8"
      },
      "source": [
        "df2.head()"
      ],
      "execution_count": 21,
      "outputs": [
        {
          "output_type": "execute_result",
          "data": {
            "text/html": [
              "<div>\n",
              "<style scoped>\n",
              "    .dataframe tbody tr th:only-of-type {\n",
              "        vertical-align: middle;\n",
              "    }\n",
              "\n",
              "    .dataframe tbody tr th {\n",
              "        vertical-align: top;\n",
              "    }\n",
              "\n",
              "    .dataframe thead th {\n",
              "        text-align: right;\n",
              "    }\n",
              "</style>\n",
              "<table border=\"1\" class=\"dataframe\">\n",
              "  <thead>\n",
              "    <tr style=\"text-align: right;\">\n",
              "      <th></th>\n",
              "      <th>Date</th>\n",
              "      <th>Open</th>\n",
              "      <th>High</th>\n",
              "      <th>Low</th>\n",
              "      <th>Close</th>\n",
              "      <th>Volume</th>\n",
              "      <th>Dividends</th>\n",
              "      <th>Stock Splits</th>\n",
              "      <th>Retorno</th>\n",
              "      <th>Retorno_acum</th>\n",
              "    </tr>\n",
              "  </thead>\n",
              "  <tbody>\n",
              "    <tr>\n",
              "      <th>962</th>\n",
              "      <td>1990-01-02</td>\n",
              "      <td>0.38</td>\n",
              "      <td>0.39</td>\n",
              "      <td>0.38</td>\n",
              "      <td>0.39</td>\n",
              "      <td>53035200</td>\n",
              "      <td>0.00</td>\n",
              "      <td>0.00</td>\n",
              "      <td>0.02</td>\n",
              "      <td>5.34</td>\n",
              "    </tr>\n",
              "    <tr>\n",
              "      <th>963</th>\n",
              "      <td>1990-01-03</td>\n",
              "      <td>0.39</td>\n",
              "      <td>0.40</td>\n",
              "      <td>0.39</td>\n",
              "      <td>0.39</td>\n",
              "      <td>113774400</td>\n",
              "      <td>0.00</td>\n",
              "      <td>0.00</td>\n",
              "      <td>0.01</td>\n",
              "      <td>5.38</td>\n",
              "    </tr>\n",
              "    <tr>\n",
              "      <th>964</th>\n",
              "      <td>1990-01-04</td>\n",
              "      <td>0.39</td>\n",
              "      <td>0.40</td>\n",
              "      <td>0.39</td>\n",
              "      <td>0.40</td>\n",
              "      <td>125740800</td>\n",
              "      <td>0.00</td>\n",
              "      <td>0.00</td>\n",
              "      <td>0.03</td>\n",
              "      <td>5.56</td>\n",
              "    </tr>\n",
              "    <tr>\n",
              "      <th>965</th>\n",
              "      <td>1990-01-05</td>\n",
              "      <td>0.40</td>\n",
              "      <td>0.40</td>\n",
              "      <td>0.39</td>\n",
              "      <td>0.39</td>\n",
              "      <td>69566400</td>\n",
              "      <td>0.00</td>\n",
              "      <td>0.00</td>\n",
              "      <td>-0.02</td>\n",
              "      <td>5.40</td>\n",
              "    </tr>\n",
              "    <tr>\n",
              "      <th>966</th>\n",
              "      <td>1990-01-08</td>\n",
              "      <td>0.39</td>\n",
              "      <td>0.40</td>\n",
              "      <td>0.39</td>\n",
              "      <td>0.40</td>\n",
              "      <td>58982400</td>\n",
              "      <td>0.00</td>\n",
              "      <td>0.00</td>\n",
              "      <td>0.02</td>\n",
              "      <td>5.50</td>\n",
              "    </tr>\n",
              "  </tbody>\n",
              "</table>\n",
              "</div>"
            ],
            "text/plain": [
              "          Date                 Open  ...              Retorno         Retorno_acum\n",
              "962 1990-01-02                 0.38  ...                 0.02                 5.34\n",
              "963 1990-01-03                 0.39  ...                 0.01                 5.38\n",
              "964 1990-01-04                 0.39  ...                 0.03                 5.56\n",
              "965 1990-01-05                 0.40  ...                -0.02                 5.40\n",
              "966 1990-01-08                 0.39  ...                 0.02                 5.50\n",
              "\n",
              "[5 rows x 10 columns]"
            ]
          },
          "metadata": {},
          "execution_count": 21
        }
      ]
    },
    {
      "cell_type": "code",
      "metadata": {
        "colab": {
          "base_uri": "https://localhost:8080/",
          "height": 376
        },
        "id": "xaH-Ym6h_SG9",
        "outputId": "c82cd9ba-275e-49f3-d632-660ac0d968f4"
      },
      "source": [
        "df2.groupby(df2[\"Date\"].dt.year)[\"Retorno_acum\"].last().plot(title=\"Retorno_Acumulado x Ano\")\n",
        "plt.xlabel(\"Ano\")\n",
        "plt.ylabel(\"Retorno_Acumulado\");"
      ],
      "execution_count": 22,
      "outputs": [
        {
          "output_type": "display_data",
          "data": {
            "image/png": "[encoded data removed]",
            "text/plain": [
              "<Figure size 576x396 with 1 Axes>"
            ]
          },
          "metadata": {}
        }
      ]
    },
    {
      "cell_type": "code",
      "metadata": {
        "colab": {
          "base_uri": "https://localhost:8080/"
        },
        "id": "IbO8CjekDdbk",
        "outputId": "1c2e0633-5ca7-429a-b98a-587ac35b88e2"
      },
      "source": [
        "df[\"Retorno\"].describe()"
      ],
      "execution_count": 23,
      "outputs": [
        {
          "output_type": "execute_result",
          "data": {
            "text/plain": [
              "count               8,954.00\n",
              "mean                    0.00\n",
              "std                     0.02\n",
              "min                    -0.30\n",
              "25%                    -0.01\n",
              "50%                     0.00\n",
              "75%                     0.01\n",
              "max                     0.20\n",
              "Name: Retorno, dtype: float64"
            ]
          },
          "metadata": {},
          "execution_count": 23
        }
      ]
    },
    {
      "cell_type": "code",
      "metadata": {
        "colab": {
          "base_uri": "https://localhost:8080/",
          "height": 347
        },
        "id": "yVBuChl7D-LK",
        "outputId": "0e60b78d-bd6a-4163-b8e1-7eb9e4cc3f5d"
      },
      "source": [
        "#Gráfico de Boxplot\n",
        "plt.boxplot(df[\"Retorno\"]);"
      ],
      "execution_count": 24,
      "outputs": [
        {
          "output_type": "display_data",
          "data": {
            "image/png": "[encoded data removed]",
            "text/plain": [
              "<Figure size 576x396 with 1 Axes>"
            ]
          },
          "metadata": {}
        }
      ]
    },
    {
      "cell_type": "code",
      "metadata": {
        "colab": {
          "base_uri": "https://localhost:8080/",
          "height": 347
        },
        "id": "AAso8LU5GiFN",
        "outputId": "f26c3d38-c668-436b-e63c-b575756b3f7e"
      },
      "source": [
        "#Histograma\n",
        "plt.hist(df[\"Retorno\"]);"
      ],
      "execution_count": 25,
      "outputs": [
        {
          "output_type": "display_data",
          "data": {
            "image/png": "[encoded data removed]",
            "text/plain": [
              "<Figure size 576x396 with 1 Axes>"
            ]
          },
          "metadata": {}
        }
      ]
    },
    {
      "cell_type": "code",
      "metadata": {
        "colab": {
          "base_uri": "https://localhost:8080/"
        },
        "id": "hkxhLlATHMN3",
        "outputId": "7024bddc-49ed-40f8-dd82-b7648ebf4c0e"
      },
      "source": [
        "#Retorno mínimo\n",
        "df[\"Retorno\"].min()"
      ],
      "execution_count": 26,
      "outputs": [
        {
          "output_type": "execute_result",
          "data": {
            "text/plain": [
              "-0.3011589367886194"
            ]
          },
          "metadata": {},
          "execution_count": 26
        }
      ]
    },
    {
      "cell_type": "code",
      "metadata": {
        "colab": {
          "base_uri": "https://localhost:8080/"
        },
        "id": "qg1q3fAKIDtM",
        "outputId": "f518510d-fa68-41e2-b58e-7de28e61422a"
      },
      "source": [
        "#Retorno máximo\n",
        "df['Retorno'].max()"
      ],
      "execution_count": 27,
      "outputs": [
        {
          "output_type": "execute_result",
          "data": {
            "text/plain": [
              "0.19565189267736316"
            ]
          },
          "metadata": {},
          "execution_count": 27
        }
      ]
    },
    {
      "cell_type": "code",
      "metadata": {
        "colab": {
          "base_uri": "https://localhost:8080/",
          "height": 266
        },
        "id": "BiOyhekfIgLb",
        "outputId": "92a1e488-78f8-493f-c889-7dc9affa26a2"
      },
      "source": [
        "#Identificando os Outliers mais críticos (Variação maior que 15% em relação ao dia anterior)\n",
        "df[(df[\"Retorno\"] < -0.15) | (df[\"Retorno\"] > 0.15)]"
      ],
      "execution_count": 28,
      "outputs": [
        {
          "output_type": "execute_result",
          "data": {
            "text/html": [
              "<div>\n",
              "<style scoped>\n",
              "    .dataframe tbody tr th:only-of-type {\n",
              "        vertical-align: middle;\n",
              "    }\n",
              "\n",
              "    .dataframe tbody tr th {\n",
              "        vertical-align: top;\n",
              "    }\n",
              "\n",
              "    .dataframe thead th {\n",
              "        text-align: right;\n",
              "    }\n",
              "</style>\n",
              "<table border=\"1\" class=\"dataframe\">\n",
              "  <thead>\n",
              "    <tr style=\"text-align: right;\">\n",
              "      <th></th>\n",
              "      <th>Date</th>\n",
              "      <th>Open</th>\n",
              "      <th>High</th>\n",
              "      <th>Low</th>\n",
              "      <th>Close</th>\n",
              "      <th>Volume</th>\n",
              "      <th>Dividends</th>\n",
              "      <th>Stock Splits</th>\n",
              "      <th>Retorno</th>\n",
              "      <th>Retorno_acum</th>\n",
              "    </tr>\n",
              "  </thead>\n",
              "  <tbody>\n",
              "    <tr>\n",
              "      <th>405</th>\n",
              "      <td>1987-10-19</td>\n",
              "      <td>0.27</td>\n",
              "      <td>0.28</td>\n",
              "      <td>0.20</td>\n",
              "      <td>0.20</td>\n",
              "      <td>146880000</td>\n",
              "      <td>0.00</td>\n",
              "      <td>0.00</td>\n",
              "      <td>-0.30</td>\n",
              "      <td>2.23</td>\n",
              "    </tr>\n",
              "    <tr>\n",
              "      <th>407</th>\n",
              "      <td>1987-10-21</td>\n",
              "      <td>0.23</td>\n",
              "      <td>0.27</td>\n",
              "      <td>0.22</td>\n",
              "      <td>0.25</td>\n",
              "      <td>262080000</td>\n",
              "      <td>0.00</td>\n",
              "      <td>0.00</td>\n",
              "      <td>0.18</td>\n",
              "      <td>3.04</td>\n",
              "    </tr>\n",
              "    <tr>\n",
              "      <th>410</th>\n",
              "      <td>1987-10-26</td>\n",
              "      <td>0.20</td>\n",
              "      <td>0.21</td>\n",
              "      <td>0.16</td>\n",
              "      <td>0.17</td>\n",
              "      <td>148320000</td>\n",
              "      <td>0.00</td>\n",
              "      <td>0.00</td>\n",
              "      <td>-0.19</td>\n",
              "      <td>1.80</td>\n",
              "    </tr>\n",
              "    <tr>\n",
              "      <th>413</th>\n",
              "      <td>1987-10-29</td>\n",
              "      <td>0.18</td>\n",
              "      <td>0.21</td>\n",
              "      <td>0.18</td>\n",
              "      <td>0.21</td>\n",
              "      <td>167040000</td>\n",
              "      <td>0.00</td>\n",
              "      <td>0.00</td>\n",
              "      <td>0.16</td>\n",
              "      <td>2.41</td>\n",
              "    </tr>\n",
              "    <tr>\n",
              "      <th>3567</th>\n",
              "      <td>2000-04-24</td>\n",
              "      <td>21.27</td>\n",
              "      <td>21.50</td>\n",
              "      <td>20.56</td>\n",
              "      <td>21.07</td>\n",
              "      <td>313645800</td>\n",
              "      <td>0.00</td>\n",
              "      <td>0.00</td>\n",
              "      <td>-0.16</td>\n",
              "      <td>341.64</td>\n",
              "    </tr>\n",
              "    <tr>\n",
              "      <th>3692</th>\n",
              "      <td>2000-10-19</td>\n",
              "      <td>18.48</td>\n",
              "      <td>19.67</td>\n",
              "      <td>18.34</td>\n",
              "      <td>19.57</td>\n",
              "      <td>256993200</td>\n",
              "      <td>0.00</td>\n",
              "      <td>0.00</td>\n",
              "      <td>0.20</td>\n",
              "      <td>317.21</td>\n",
              "    </tr>\n",
              "    <tr>\n",
              "      <th>5697</th>\n",
              "      <td>2008-10-13</td>\n",
              "      <td>17.17</td>\n",
              "      <td>19.15</td>\n",
              "      <td>16.99</td>\n",
              "      <td>19.15</td>\n",
              "      <td>144935400</td>\n",
              "      <td>0.00</td>\n",
              "      <td>0.00</td>\n",
              "      <td>0.19</td>\n",
              "      <td>310.42</td>\n",
              "    </tr>\n",
              "  </tbody>\n",
              "</table>\n",
              "</div>"
            ],
            "text/plain": [
              "           Date                 Open  ...              Retorno         Retorno_acum\n",
              "405  1987-10-19                 0.27  ...                -0.30                 2.23\n",
              "407  1987-10-21                 0.23  ...                 0.18                 3.04\n",
              "410  1987-10-26                 0.20  ...                -0.19                 1.80\n",
              "413  1987-10-29                 0.18  ...                 0.16                 2.41\n",
              "3567 2000-04-24                21.27  ...                -0.16               341.64\n",
              "3692 2000-10-19                18.48  ...                 0.20               317.21\n",
              "5697 2008-10-13                17.17  ...                 0.19               310.42\n",
              "\n",
              "[7 rows x 10 columns]"
            ]
          },
          "metadata": {},
          "execution_count": 28
        }
      ]
    },
    {
      "cell_type": "code",
      "metadata": {
        "colab": {
          "base_uri": "https://localhost:8080/",
          "height": 376
        },
        "id": "Rc4Op8Ovw9j_",
        "outputId": "a682c912-f0de-4f94-9e6b-23a9bf519e3e"
      },
      "source": [
        "df.groupby(df[\"Date\"].dt.year)[\"Retorno\"].sum().plot(title=\"Retorno x Ano\")\n",
        "plt.xlabel(\"Ano\")\n",
        "plt.ylabel(\"Retorno\");"
      ],
      "execution_count": 29,
      "outputs": [
        {
          "output_type": "display_data",
          "data": {
            "image/png": "[encoded data removed]",
            "text/plain": [
              "<Figure size 576x396 with 1 Axes>"
            ]
          },
          "metadata": {}
        }
      ]
    },
    {
      "cell_type": "code",
      "metadata": {
        "colab": {
          "base_uri": "https://localhost:8080/",
          "height": 376
        },
        "id": "bDfzM2F9w9rV",
        "outputId": "af474f04-8044-4dd4-a7c9-bbe3dacd57e3"
      },
      "source": [
        "df.groupby(df[\"Date\"].dt.year)[\"Close\"].last().plot(title=\"Preço x Ano\")\n",
        "plt.xlabel(\"Ano\")\n",
        "plt.ylabel(\"Preço\");"
      ],
      "execution_count": 30,
      "outputs": [
        {
          "output_type": "display_data",
          "data": {
            "image/png": "[encoded data removed]",
            "text/plain": [
              "<Figure size 576x396 with 1 Axes>"
            ]
          },
          "metadata": {}
        }
      ]
    },
    {
      "cell_type": "code",
      "metadata": {
        "colab": {
          "base_uri": "https://localhost:8080/",
          "height": 356
        },
        "id": "hAlnWsglw9zf",
        "outputId": "34922121-98bc-4c7a-ebb8-a1f47f08810f"
      },
      "source": [
        "df.groupby(df[\"Date\"])[\"Close\"].last().plot(title=\"Preço x Data\")\n",
        "plt.xlabel(\"Data\")\n",
        "plt.ylabel(\"Preço\");"
      ],
      "execution_count": 31,
      "outputs": [
        {
          "output_type": "display_data",
          "data": {
            "image/png": "[encoded data removed]",
            "text/plain": [
              "<Figure size 576x396 with 1 Axes>"
            ]
          },
          "metadata": {}
        }
      ]
    },
    {
      "cell_type": "code",
      "metadata": {
        "id": "xL5IKMeeLI6v"
      },
      "source": [
        "df.to_csv(\"Market_Price_Microsoft.csv\", index=False)"
      ],
      "execution_count": 32,
      "outputs": []
    }
  ]
}